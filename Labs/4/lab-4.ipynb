{
 "cells": [
  {
   "cell_type": "markdown",
   "metadata": {},
   "source": [
    "# Learning and Decision Making"
   ]
  },
  {
   "cell_type": "markdown",
   "metadata": {},
   "source": [
    "## Laboratory 4: Reinforcement learning\n",
    "\n",
    "In the end of the lab, you should export the notebook to a Python script (``File >> Download as >> Python (.py)``). Make sure that the resulting script includes all code written in the tasks marked as \"**Activity n. N**\", together with any replies to specific questions posed. Your file should be named `padi-labKK-groupXXX.py`, where `KK` corresponds to the lab number and the `XXX` corresponds to your group number. Similarly, your homework should consist of a single pdf file named `padi-hwKK-groupXXX.pdf`. You should create a zip file with the lab and homework files and submit it in Fenix **at most 30 minutes after your lab is over**.\n",
    "\n",
    "Make sure to strictly respect the specifications in each activity, in terms of the intended inputs, outputs and naming conventions.\n",
    "\n",
    "In particular, after completing the activities you should be able to replicate the examples provided (although this, in itself, is no guarantee that the activities are correctly completed)."
   ]
  },
  {
   "cell_type": "markdown",
   "metadata": {},
   "source": [
    "### 1. The MDP Model \n",
    "\n",
    "In this lab you will implement several reinforcement learning algorithms, and use the garbage collection domain from Lab 2 to test and compare these algorithms. Don't forget, however, that your functions should work for **any MDP** and not just the one provided. \n",
    "\n",
    "The garbage collection domain to be used is represented in the diagram below.\n",
    "\n",
    "<img src=\"garbage-big.png\">\n",
    "\n",
    "In the above domain, \n",
    "\n",
    "* At any time step, garbage is _at most_ in one of the cells marked with a garbage bin. \n",
    "* When the garbage truck picks up the garbage from one of the bins, it becoles ``loaded``. \n",
    "* While the truck is loaded, no garbage appears in any of the marked locations.\n",
    "* The driver has six actions available: `Up`, `Down`, `Left`, `Right`, `Pick`, and `Drop`. \n",
    "* Each movement action moves the truck to the adjacent stop in the corresponding direction, if there is one. Otherwise, it has no effect. \n",
    "* The `Pick` action succeeds when the truck is in a location with garbage. In that case, the truck becomes \"loaded\".\n",
    "* The `Drop` action succeeds when the loaded truck is at the recycling plant. After a successful drop, the truck becomes empty, and garbage may now appear in any of the marked cells with a total probability of 0.3.\n",
    "\n",
    "**Throughout the lab, unless if stated otherwise, use $\\gamma=0.99$.**\n",
    "\n",
    "$$\\diamond$$\n",
    "\n",
    "We start by loading the MDP for the garbage collection domain from the file `garbage.npz`. We will use this domain as an example to illustrate the different functions/algorithms you are expected to deploy. The file contains both the MDP, described as a tuple like those from Lab 2, and the corresponding optimal $Q$-function.\n",
    "\n",
    "To do so, you can run the code\n",
    "```python\n",
    "import numpy as np\n",
    "\n",
    "mdp_info = np.load('garbage.npz', allow_pickle=True)\n",
    "\n",
    "# The MDP is a tuple (X, A, P, c, gamma)\n",
    "M = mdp_info['M']\n",
    "\n",
    "# We also load the optimal Q-function for the MDP\n",
    "Qopt = mdp_info['Q']\n",
    "```\n",
    "\n",
    "---\n",
    "\n",
    "In the first activity, you will implement a \"simulator of the world\". The simulator consists of a function that enables you to sample a transition from a given MDP. You will then use this function, in subsequent activities, to generate the data that your agent will use to learn."
   ]
  },
  {
   "cell_type": "markdown",
   "metadata": {},
   "source": [
    "---\n",
    "\n",
    "#### Activity 1.        \n",
    "\n",
    "Write a function named `sample_transition` that receives, as input, a tuple representing an arbitrary MDP as well as two integers, `s` and `a`, corresponding to a state and an action. The function should return a tuple `(s, a, c, s')`, where `c` is the cost associated with performing action `a` in state `s` and `s'` is a state generated from `s` upon selecting action `a`, according to the transition probabilities for the MDP.\n",
    "\n",
    "---"
   ]
  },
  {
   "cell_type": "code",
   "execution_count": null,
   "metadata": {
    "ExecuteTime": {
     "end_time": "2019-12-09T09:18:48.272364Z",
     "start_time": "2019-12-09T09:18:48.264410Z"
    },
    "scrolled": false
   },
   "outputs": [],
   "source": [
    "# Insert your code here.\n",
    "def sample_transition(M, s, a):\n",
    "    X = M[0]\n",
    "    A = M[1]\n",
    "    P = M[2]\n",
    "    C = M[3]\n",
    "    gamma = M[4]\n",
    "\n",
    "\n",
    "    \n",
    "    c = C[s, a]\n",
    "\n",
    "    s_prime = 2\n",
    "\n",
    "    output = (s, a, c, s_prime)\n",
    "\n",
    "    return output"
   ]
  },
  {
   "cell_type": "markdown",
   "metadata": {},
   "source": [
    "All reinforcement learning algorithms that you will implement can only access the MDP through the function `sample_transition` which, in a sense, simulates an \"interaction\" of the agent with the environment.\n",
    "\n",
    "For example, using the garbage collection MDP, you could run:\n",
    "\n",
    "```python\n",
    "import numpy.random as rnd\n",
    "\n",
    "rnd.seed(42)\n",
    "\n",
    "# Select random state and action\n",
    "s = 115 # State (8, 28, empty)\n",
    "a = rnd.randint(len(M[1]))\n",
    "\n",
    "s, a, cnew, snew = sample_transition(M, s, a)\n",
    "\n",
    "print('Observed transition:\\n(', end='')\n",
    "print(M[0][s], end=', ')\n",
    "print(M[1][a], end=', ')\n",
    "print(cnew, end=', ')\n",
    "print(M[0][snew], end=')\\n')\n",
    "\n",
    "# Select random state and action\n",
    "s = 429 # (0, None, loaded)\n",
    "a = rnd.randint(len(M[1]))\n",
    "\n",
    "s, a, cnew, snew = sample_transition(M, s, a)\n",
    "\n",
    "print('\\nObserved transition:\\n(', end='')\n",
    "print(M[0][s], end=', ')\n",
    "print(M[1][a], end=', ')\n",
    "print(cnew, end=', ')\n",
    "print(M[0][snew], end=')\\n')\n",
    "\n",
    "# Select random state and action\n",
    "s = 239 # State (18, 18, empty)\n",
    "a = rnd.randint(len(M[1]))\n",
    "\n",
    "s, a, cnew, snew = sample_transition(M, s, a)\n",
    "\n",
    "print('\\nObserved transition:\\n(', end='')\n",
    "print(M[0][s], end=', ')\n",
    "print(M[1][a], end=', ')\n",
    "print(cnew, end=', ')\n",
    "print(M[0][snew], end=')\\n')\n",
    "```\n",
    "\n",
    "and get, as output:\n",
    "\n",
    "```\n",
    "Observed transition:\n",
    "((8, 28, empty), Right, 0.501, (10, 28, empty))\n",
    "\n",
    "Observed transition:\n",
    "((0, None, loaded), Left, 1.0, (0, None, loaded))\n",
    "\n",
    "Observed transition:\n",
    "((18, 18, empty), Pick, 0.01, (18, None, loaded))\n",
    "```\n",
    "\n",
    "**Note:** For debug purposes, we also provide a second file, `garbage-small.npz`, that contains a 6-state MDP that you can use to verify if your results make sense."
   ]
  },
  {
   "cell_type": "markdown",
   "metadata": {
    "raw_mimetype": "text/latex"
   },
   "source": [
    "---\n",
    "\n",
    "#### Activity 2.        \n",
    "\n",
    "Write down a function named `egreedy` that implements an $\\epsilon$-greedy policy. Your function should receive, as input, a `numpy` array `Q` with shape `(N,)`, for some integer `N`, and, as an optional argument, a floating point number `eps` with a default value `eps=0.1`. Your function should return... \n",
    "\n",
    "* ... with a probability $\\epsilon$, a random index between $0$ and $N-1$.\n",
    "* ... with a probability $1-\\epsilon$, the index between $0$ and $N-1$ corresponding to the minimum value of `Q`. If more than one such index exists, the function should select among such indices **uniformly at random**.\n",
    "\n",
    "**Note:** In the upcoming activities, the array `Q` received by the function `egreedy` will correspond to a row of a $Q$-function, and `N` will correspond to the number of actions."
   ]
  },
  {
   "cell_type": "code",
   "execution_count": null,
   "metadata": {
    "ExecuteTime": {
     "end_time": "2019-12-09T09:18:48.301639Z",
     "start_time": "2019-12-09T09:18:48.296224Z"
    }
   },
   "outputs": [],
   "source": [
    "# Insert your code here."
   ]
  },
  {
   "cell_type": "markdown",
   "metadata": {},
   "source": [
    "For example, using the function `Qopt` loaded from the garbage collection file, you can run:\n",
    "\n",
    "```python\n",
    "rnd.seed(42)\n",
    "\n",
    "s = 115 # State (8, 28, empty)\n",
    "a = egreedy(Qopt[s, :], eps=0)\n",
    "print('State:', M[0][s], '- action (eps=0.0):', M[1][a])\n",
    "a = egreedy(Qopt[s, :], eps=0.5)\n",
    "print('State:', M[0][s], '- action (eps=0.5):', M[1][a])\n",
    "a = egreedy(Qopt[s, :], eps=1.0)\n",
    "print('State:', M[0][s], '- action (eps=1.0):', M[1][a])\n",
    "\n",
    "s = 429 # (0, None, loaded)\n",
    "a = egreedy(Qopt[s, :], eps=0)\n",
    "print('\\nState:', M[0][s], '- action (eps=0.0):', M[1][a])\n",
    "a = egreedy(Qopt[s, :], eps=0.5)\n",
    "print('State:', M[0][s], '- action (eps=0.5):', M[1][a])\n",
    "a = egreedy(Qopt[s, :], eps=1.0)\n",
    "print('State:', M[0][s], '- action (eps=1.0):', M[1][a])\n",
    "\n",
    "s = 239 # State (18, 18, empty)\n",
    "a = egreedy(Qopt[s, :], eps=0)\n",
    "print('\\nState:', M[0][s], '- action (eps=0.0):', M[1][a])\n",
    "a = egreedy(Qopt[s, :], eps=0.5)\n",
    "print('State:', M[0][s], '- action (eps=0.5):', M[1][a])\n",
    "a = egreedy(Qopt[s, :], eps=1.0)\n",
    "print('State:', M[0][s], '- action (eps=1.0):', M[1][a])\n",
    "```\n",
    "\n",
    "and you will get the output:\n",
    "\n",
    "```\n",
    "State: (8, 28, empty) - action (eps=0.0): Down\n",
    "State: (8, 28, empty) - action (eps=0.5): Down\n",
    "State: (8, 28, empty) - action (eps=1.0): Left\n",
    "\n",
    "State: (0, None, loaded) - action (eps=0.0): Drop\n",
    "State: (0, None, loaded) - action (eps=0.5): Left\n",
    "State: (0, None, loaded) - action (eps=1.0): Down\n",
    "\n",
    "State: (18, 18, empty) - action (eps=0.0): Pick\n",
    "State: (18, 18, empty) - action (eps=0.5): Right\n",
    "State: (18, 18, empty) - action (eps=1.0): Right\n",
    "```\n",
    "\n",
    "**Note that, depending on the order and number of calls to functions in the random library you may get slightly different results.**"
   ]
  },
  {
   "cell_type": "markdown",
   "metadata": {},
   "source": [
    "---\n",
    "\n",
    "#### Activity 3. \n",
    "\n",
    "Write a function `mb_learning` that implements the model-based reinforcement learning algorithm discussed in class. Your function should receive as input arguments \n",
    "\n",
    "* A tuple, `mdp`, containing the description of an **arbitrary** MDP. The structure of the tuple is similar to that provided in the example above. \n",
    "* An integer, `n`, corresponding the number of steps that your algorithm should run.\n",
    "*  A numpy array `qinit` with as many rows as the number of states in `mdp` and as many columns as the number of actions in `mdp`. The matrix `qinit` should be used to initialize the $Q$-function being learned by your function.\n",
    "* A tuple, `Pinit`, with as many elements as the number of actions in `mdp`. Each element of `Pinit` corresponds to square numpy arrays with as many rows/columns as the number of states in `mdp` and can be **any** transition probability matrix. The matrices in `Pinit` should be used to initialize the transition probability matrices of the model being learned by your function.\n",
    "* A numpy array `cinit` with as many rows as the number of states in `mdp` and as many columns as the number of actions in `mdp`. The matrix `cinit` should be used to initialize the cost function of the model being learned by your function.\n",
    "\n",
    "Your function should simulate an interaction of `n` steps between the agent and the environment, starting from an arbitrary state chosen uniformly at random, and during which it should perform `n` iterations of the model-based RL algorithm seen in class. In particular, it should learn the transition probabilities and cost function from the interaction between the agent and the environment, and use these to compute the optimal $Q$-function. The transition probabilities, cost and $Q$-functions to be learned should be initialized using `Pinit`, `cinit` and `qinit`, respectively. \n",
    "\n",
    "Note that, at each step of the interaction,\n",
    "\n",
    "* The agent should observe the current state, and select an action using an $\\epsilon$-greedy policy with respect to its current estimate of the optimal $Q$-values. You should use the function `egreedy` from Activity 2, with $\\epsilon=0.15$. \n",
    "* Given the state and action, you must then compute the cost and generate the next state, using `mdp` and the function `sample_transition` from Activity 1.\n",
    "* With this transition information (state, action, cost, next-state), you can now perform an update to the transition probabilities, cost function, and $Q$-function.\n",
    "* When updating the components $(x,a)$ of the model, use the step-size\n",
    "\n",
    "$$\\alpha_t=\\frac{1}{N_t(x,a)+1},$$\n",
    "\n",
    "where $N_t(x,a)$ is the number of visits to the pair $(x,a)$ up to time step $t$.\n",
    "\n",
    "Your function should return a tuple containing:\n",
    "\n",
    "*  A numpy array with as many rows as the number of states in `mdp` and as many columns as the number of actions in `mdp`, corresponding to the learned $Q$-function.\n",
    "* A tuple with as many elements as the number of actions in `mdp`. The element $a$ of the tuple corresponds to a square numpy array with as many rows/columns as the number of states in `mdp`, corresponding to the learned transition probabilities for action $a$.\n",
    "* A numpy array with as many rows as the number of states in `mdp` and as many columns as the number of actions in `mdp`, corresponding to the learned cost function.\n",
    "\n",
    "---"
   ]
  },
  {
   "cell_type": "code",
   "execution_count": null,
   "metadata": {
    "ExecuteTime": {
     "end_time": "2019-12-09T09:18:48.330597Z",
     "start_time": "2019-12-09T09:18:48.322311Z"
    }
   },
   "outputs": [],
   "source": [
    "# Insert your code here."
   ]
  },
  {
   "cell_type": "markdown",
   "metadata": {
    "ExecuteTime": {
     "end_time": "2019-12-09T09:18:48.567188Z",
     "start_time": "2019-12-09T09:18:48.333226Z"
    },
    "scrolled": false
   },
   "source": [
    "As an example using the garbage collection MDP, we could run:\n",
    "\n",
    "```python\n",
    "rnd.seed(42)\n",
    "\n",
    "# Initialize transition probabilities\n",
    "pinit = ()\n",
    "\n",
    "for a in range(len(M[1])):\n",
    "    pinit += (np.eye(len(M[0])),)\n",
    "\n",
    "# Initialize cost function\n",
    "cinit = np.zeros((len(M[0]), len(M[1])))\n",
    "\n",
    "# Initialize Q-function\n",
    "qinit = np.zeros((len(M[0]), len(M[1])))\n",
    "\n",
    "# Run 1000 steps of model-based learning\n",
    "qnew, pnew, cnew = mb_learning(M, 1000, qinit, pinit, cinit)\n",
    "\n",
    "# Compare the learned Q with the optimal Q\n",
    "print('Error in Q after 1000 steps:', np.linalg.norm(qnew - Qopt))\n",
    "\n",
    "# Run 1000 additional steps of model-based learning\n",
    "qnew, pnew, cnew = mb_learning(M, 1000, qnew, pnew, cnew)\n",
    "\n",
    "# Compare once again the learned Q with the optimal Q\n",
    "print('Error in Q after 2000 steps:', np.linalg.norm(qnew - Qopt))\n",
    "```\n",
    "\n",
    "to get\n",
    "\n",
    "```\n",
    "Error in Q after 1000 steps: 2071.7836094471145\n",
    "Error in Q after 2000 steps: 2063.094769797411\n",
    "```\n",
    "\n",
    "Note that, even if the seed is fixed, the numerical values may differ somewhat from those above."
   ]
  },
  {
   "cell_type": "markdown",
   "metadata": {},
   "source": [
    "### 3. Model-free learning\n",
    "\n",
    "You will now implement both $Q$-learning and SARSA."
   ]
  },
  {
   "cell_type": "markdown",
   "metadata": {},
   "source": [
    "---\n",
    "\n",
    "#### Activity 4. \n",
    "\n",
    "Write a function `qlearning` that implements the $Q$-learning algorithm discussed in class. Your function should receive as input arguments \n",
    "\n",
    "* A tuple, `mdp`, containing the description of an **arbitrary** MDP. The structure of the tuple is similar to that provided in the examples above. \n",
    "* An integer, `n`, corresponding he number of steps that your algorithm should run.\n",
    "*  A `numpy` array `qinit` with as many rows as the number of states in `mdp` and as many columns as the number of actions in `mdp`. The matrix `qinit` should be used to initialize the $Q$-function being learned by your function.\n",
    "\n",
    "Your function should simulate an interaction of `n` steps between the agent and the environment, starting from an arbitrary state chosen uniformly at random, and during which it should perform `n` iterations of the $Q$-learning algorithm seen in class. In particular, it should learn optimal $Q$-function. The $Q$-function to be learned should be initialized using `qinit`. \n",
    "\n",
    "Note that, at each step of the interaction,\n",
    "\n",
    "* The agent should observe the current state, and select an action using an $\\epsilon$-greedy policy with respect to its current estimate of the optimal $Q$-values. You should use the function `egreedy` from Activity 2, with $\\epsilon=0.15$. \n",
    "* Given the state and action, you must then compute the cost and generate the next state, using `mdp` and the function `sample_transition` from Activity 1.\n",
    "* With this transition information (state, action, cost, next-state), you can now perform an update to the $Q$-function.\n",
    "* When updating the components $(x,a)$ of the model, use the step-size $\\alpha=0.3$.\n",
    "\n",
    "Your function should return a `numpy` array with as many rows as the number of states in `mdp` and as many columns as the number of actions in `mdp`, corresponding to the learned $Q$-function.\n",
    "\n",
    "---"
   ]
  },
  {
   "cell_type": "code",
   "execution_count": null,
   "metadata": {
    "ExecuteTime": {
     "end_time": "2019-12-09T09:18:48.576851Z",
     "start_time": "2019-12-09T09:18:48.571201Z"
    }
   },
   "outputs": [],
   "source": [
    "# Insert your code here."
   ]
  },
  {
   "cell_type": "markdown",
   "metadata": {
    "ExecuteTime": {
     "end_time": "2019-12-09T09:18:48.567188Z",
     "start_time": "2019-12-09T09:18:48.333226Z"
    },
    "scrolled": false
   },
   "source": [
    "As an example using the garbage collection MDP, we could run:\n",
    "\n",
    "```python\n",
    "rnd.seed(42)\n",
    "\n",
    "# Initialize Q-function\n",
    "qinit = np.zeros((len(M[0]), len(M[1])))\n",
    "\n",
    "# Run 1000 steps of model-based learning\n",
    "qnew = qlearning(M, 1000, qinit)\n",
    "\n",
    "# Compare the learned Q with the optimal Q\n",
    "print('Error in Q after 1000 steps:', np.linalg.norm(qnew - Qopt))\n",
    "\n",
    "# Run 1000 additional steps of model-based learning\n",
    "qnew = qlearning(M, 1000, qnew)\n",
    "\n",
    "# Compare once again the learned Q with the optimal Q\n",
    "print('Error in Q after 2000 steps:', np.linalg.norm(qnew - Qopt))\n",
    "```\n",
    "\n",
    "to get\n",
    "\n",
    "```\n",
    "Error in Q after 1000 steps: 2075.1017636787155\n",
    "Error in Q after 2000 steps: 2071.2423021752047\n",
    "```\n",
    "\n",
    "Once again, even if the seed is fixed, the numerical values may differ somewhat from those above."
   ]
  },
  {
   "cell_type": "markdown",
   "metadata": {},
   "source": [
    "---\n",
    "\n",
    "#### Activity 5. \n",
    "\n",
    "Write a function `sarsa` that implements the SARSA algorithm discussed in class. Your function should receive as input arguments \n",
    "\n",
    "* A tuple, `mdp`, containing the description of an **arbitrary** MDP. The structure of the tuple is similar to that provided in the examples above. \n",
    "* An integer, `n`, corresponding he number of steps that your algorithm should run.\n",
    "*  A `numpy` array `qinit` with as many rows as the number of states in `mdp` and as many columns as the number of actions in `mdp`. The matrix `qinit` should be used to initialize the $Q$-function being learned by your function.\n",
    "\n",
    "Your function should simulate an interaction of `n` steps between the agent and the environment, starting from an arbitrary state chosen uniformly at random, and during which it should perform `n` iterations of the SARSA algorithm seen in class. The $Q$-function to be learned should be initialized using `qinit`. \n",
    "\n",
    "Note that, at each step of the interaction,\n",
    "\n",
    "* The agent should observe the current state, and select an action using an $\\epsilon$-greedy policy with respect to its current estimate of the optimal $Q$-values. You should use the function `egreedy` from Activity 2, with $\\epsilon=0.15$. **Do not adjust the value of $\\epsilon$ during learning.**\n",
    "* Given the state and action, you must then compute the cost and generate the next state, using `mdp` and the function `sample_transition` from Activity 1.\n",
    "* With this transition information (state, action, cost, next-state), you can now perform an update to the $Q$-function.\n",
    "* When updating the components $(x,a)$ of the model, use the step-size $\\alpha=0.3$.\n",
    "\n",
    "Your function should return a `numpy` array with as many rows as the number of states in `mdp` and as many columns as the number of actions in `mdp`, corresponding to the learned $Q$-function.\n",
    "\n",
    "---"
   ]
  },
  {
   "cell_type": "code",
   "execution_count": null,
   "metadata": {
    "ExecuteTime": {
     "end_time": "2019-12-09T09:18:48.771464Z",
     "start_time": "2019-12-09T09:18:48.766170Z"
    }
   },
   "outputs": [],
   "source": [
    "# Insert your code here."
   ]
  },
  {
   "cell_type": "markdown",
   "metadata": {
    "ExecuteTime": {
     "end_time": "2019-12-09T09:18:48.567188Z",
     "start_time": "2019-12-09T09:18:48.333226Z"
    },
    "scrolled": false
   },
   "source": [
    "As an example using the garbage collection MDP, we could run:\n",
    "\n",
    "```python\n",
    "rnd.seed(42)\n",
    "\n",
    "# Initialize Q-function\n",
    "qinit = np.zeros((len(M[0]), len(M[1])))\n",
    "\n",
    "# Run 1000 steps of model-based learning\n",
    "qnew = sarsa(M, 1000, qinit)\n",
    "\n",
    "# Compare the learned Q with the optimal Q\n",
    "print('Error in Q after 1000 steps:', np.linalg.norm(qnew - Qopt))\n",
    "\n",
    "# Run 1000 additional steps of model-based learning\n",
    "qnew = sarsa(M, 1000, qnew)\n",
    "\n",
    "# Compare once again the learned Q with the optimal Q\n",
    "print('Error in Q after 2000 steps:', np.linalg.norm(qnew - Qopt))\n",
    "```\n",
    "\n",
    "to get\n",
    "\n",
    "```\n",
    "Error in Q after 1000 steps: 2075.1406358460335\n",
    "Error in Q after 2000 steps: 2071.3109087380585\n",
    "```"
   ]
  },
  {
   "cell_type": "markdown",
   "metadata": {},
   "source": [
    "You can also run the following code, to compare the performance of the three methods:\n",
    "\n",
    "```python\n",
    "%matplotlib inline\n",
    "\n",
    "import matplotlib.pyplot as plt\n",
    "from tqdm import trange\n",
    "\n",
    "STEPS = 100\n",
    "ITERS = 10000\n",
    "RUNS  = 5\n",
    "\n",
    "iters = range(0, STEPS * ITERS + 1, STEPS)\n",
    "\n",
    "# Error matrices\n",
    "Emb = np.zeros(ITERS + 1)\n",
    "Eql = np.zeros(ITERS + 1)\n",
    "Ess = np.zeros(ITERS + 1)\n",
    "\n",
    "Emb[0] = np.linalg.norm(Qopt) * RUNS\n",
    "Eql[0] = Emb[0]\n",
    "Ess[0] = Emb[0]\n",
    "\n",
    "rnd.seed(42)\n",
    "\n",
    "for n in range(RUNS):\n",
    "    \n",
    "    print('\\n = Training (run n. %i) =' % n)\n",
    "\n",
    "    # Initialization\n",
    "    pmb = ()\n",
    "    for a in range(len(M[1])):\n",
    "        pmb += (np.eye(len(M[0])),)\n",
    "    cmb = np.zeros((len(M[0]), len(M[1])))\n",
    "    qmb = np.zeros((len(M[0]), len(M[1])))\n",
    "\n",
    "    qql = np.zeros((len(M[0]), len(M[1])))\n",
    "\n",
    "    qss = np.zeros((len(M[0]), len(M[1])))\n",
    "\n",
    "    # Run evaluation\n",
    "    for t in trange(ITERS):\n",
    "        qmb, pmb, cmb = mb_learning(M, STEPS, qmb, pmb, cmb)\n",
    "        Emb[t + 1] += np.linalg.norm(Qopt - qmb)\n",
    "\n",
    "        qql = qlearning(M, STEPS, qql)\n",
    "        Eql[t + 1] += np.linalg.norm(Qopt - qql)\n",
    "\n",
    "        qss = sarsa(M, STEPS, qss)\n",
    "        Ess[t + 1] += np.linalg.norm(Qopt - qss)\n",
    "        \n",
    "Emb /= RUNS\n",
    "Eql /= RUNS\n",
    "Ess /= RUNS\n",
    "\n",
    "plt.figure()\n",
    "plt.plot(iters, Emb, label='Model based learning')\n",
    "plt.plot(iters, Eql, label='Q-learning')\n",
    "plt.plot(iters, Ess, label='SARSA')\n",
    "plt.legend()\n",
    "plt.xlabel('N. iterations')\n",
    "plt.ylabel('Error in $Q$-function')\n",
    "plt.tight_layout()\n",
    "```\n",
    "\n",
    "**Note:** The code above takes a while to conclude. If you want to observe faster results, you may try with a single run (set `RUNS = 1` above) or decrease the training time (changing `ITERS` above). However, the plot you will obtain will differ from the one provided.\n",
    "\n",
    "As the output, you should observe a plot similar to the one below.\n",
    "\n",
    "<img src=\"plot.png\" align=\"left\">"
   ]
  },
  {
   "cell_type": "markdown",
   "metadata": {},
   "source": [
    "---\n",
    "\n",
    "#### Activity 6.\n",
    "\n",
    "**Based on the results you obtained when running the above code with your algorithms**, discuss the differences observed between the performance of the three methods.\n",
    "\n",
    "---"
   ]
  },
  {
   "cell_type": "markdown",
   "metadata": {},
   "source": [
    "<font color=\"blue\">Insert your comments here.</font>"
   ]
  }
 ],
 "metadata": {
  "celltoolbar": "Raw Cell Format",
  "kernelspec": {
   "display_name": "Python 3 (ipykernel)",
   "language": "python",
   "name": "python3"
  },
  "language_info": {
   "codemirror_mode": {
    "name": "ipython",
    "version": 3
   },
   "file_extension": ".py",
   "mimetype": "text/x-python",
   "name": "python",
   "nbconvert_exporter": "python",
   "pygments_lexer": "ipython3",
   "version": "3.8.12"
  },
  "latex_envs": {
   "LaTeX_envs_menu_present": true,
   "autoclose": false,
   "autocomplete": true,
   "bibliofile": "biblio.bib",
   "cite_by": "apalike",
   "current_citInitial": 1,
   "eqLabelWithNumbers": true,
   "eqNumInitial": 1,
   "hotkeys": {
    "equation": "Ctrl-E",
    "itemize": "Ctrl-I"
   },
   "labels_anchors": false,
   "latex_user_defs": false,
   "report_style_numbering": false,
   "user_envs_cfg": false
  }
 },
 "nbformat": 4,
 "nbformat_minor": 1
}
